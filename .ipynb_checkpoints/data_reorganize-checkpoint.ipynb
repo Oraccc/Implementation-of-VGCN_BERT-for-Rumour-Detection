{
 "cells": [
  {
   "cell_type": "code",
   "execution_count": 1,
   "id": "9b150a35",
   "metadata": {},
   "outputs": [],
   "source": [
    "import pandas as pd\n",
    "import os\n",
    "import json\n",
    "import numpy as np\n",
    "from sklearn.preprocessing import LabelEncoder\n",
    "from sklearn.model_selection import train_test_split\n",
    "\n",
    "from utils import *"
   ]
  },
  {
   "cell_type": "code",
   "execution_count": 2,
   "id": "034f28a2",
   "metadata": {},
   "outputs": [
    {
     "data": {
      "text/html": [
       "<div>\n",
       "<style scoped>\n",
       "    .dataframe tbody tr th:only-of-type {\n",
       "        vertical-align: middle;\n",
       "    }\n",
       "\n",
       "    .dataframe tbody tr th {\n",
       "        vertical-align: top;\n",
       "    }\n",
       "\n",
       "    .dataframe thead th {\n",
       "        text-align: right;\n",
       "    }\n",
       "</style>\n",
       "<table border=\"1\" class=\"dataframe\">\n",
       "  <thead>\n",
       "    <tr style=\"text-align: right;\">\n",
       "      <th></th>\n",
       "      <th>text_comments</th>\n",
       "      <th>text_only</th>\n",
       "      <th>comments_only</th>\n",
       "      <th>label</th>\n",
       "      <th>count</th>\n",
       "    </tr>\n",
       "  </thead>\n",
       "  <tbody>\n",
       "    <tr>\n",
       "      <th>0</th>\n",
       "      <td>Breaking: At least 10 dead, 5 injured after tO...</td>\n",
       "      <td>Breaking: At least 10 dead, 5 injured after tO...</td>\n",
       "      <td>The religion of peace strikes again.\\n[SEP]Hi ...</td>\n",
       "      <td>rumour</td>\n",
       "      <td>9</td>\n",
       "    </tr>\n",
       "    <tr>\n",
       "      <th>1</th>\n",
       "      <td>France: 10 people dead after shooting at HQ of...</td>\n",
       "      <td>France: 10 people dead after shooting at HQ of...</td>\n",
       "      <td>MT France: 10 dead after shooting at HQ of sat...</td>\n",
       "      <td>rumour</td>\n",
       "      <td>7</td>\n",
       "    </tr>\n",
       "    <tr>\n",
       "      <th>2</th>\n",
       "      <td>Ten killed in shooting at headquarters of Fren...</td>\n",
       "      <td>Ten killed in shooting at headquarters of Fren...</td>\n",
       "      <td>must be that peace loving religion again\\n[SEP...</td>\n",
       "      <td>rumour</td>\n",
       "      <td>5</td>\n",
       "    </tr>\n",
       "    <tr>\n",
       "      <th>3</th>\n",
       "      <td>BREAKING: 10 dead in shooting at headquarters ...</td>\n",
       "      <td>BREAKING: 10 dead in shooting at headquarters ...</td>\n",
       "      <td>WTF &amp;gt; BREAKING 10 dead in shooting at headq...</td>\n",
       "      <td>rumour</td>\n",
       "      <td>13</td>\n",
       "    </tr>\n",
       "    <tr>\n",
       "      <th>4</th>\n",
       "      <td>Reuters: 10 people shot dead at headquarters o...</td>\n",
       "      <td>Reuters: 10 people shot dead at headquarters o...</td>\n",
       "      <td>watch yourself in Paris bud\\n[SEP]islamist ter...</td>\n",
       "      <td>rumour</td>\n",
       "      <td>16</td>\n",
       "    </tr>\n",
       "  </tbody>\n",
       "</table>\n",
       "</div>"
      ],
      "text/plain": [
       "                                       text_comments  \\\n",
       "0  Breaking: At least 10 dead, 5 injured after tO...   \n",
       "1  France: 10 people dead after shooting at HQ of...   \n",
       "2  Ten killed in shooting at headquarters of Fren...   \n",
       "3  BREAKING: 10 dead in shooting at headquarters ...   \n",
       "4  Reuters: 10 people shot dead at headquarters o...   \n",
       "\n",
       "                                           text_only  \\\n",
       "0  Breaking: At least 10 dead, 5 injured after tO...   \n",
       "1  France: 10 people dead after shooting at HQ of...   \n",
       "2  Ten killed in shooting at headquarters of Fren...   \n",
       "3  BREAKING: 10 dead in shooting at headquarters ...   \n",
       "4  Reuters: 10 people shot dead at headquarters o...   \n",
       "\n",
       "                                       comments_only   label  count  \n",
       "0  The religion of peace strikes again.\\n[SEP]Hi ...  rumour      9  \n",
       "1  MT France: 10 dead after shooting at HQ of sat...  rumour      7  \n",
       "2  must be that peace loving religion again\\n[SEP...  rumour      5  \n",
       "3  WTF &gt; BREAKING 10 dead in shooting at headq...  rumour     13  \n",
       "4  watch yourself in Paris bud\\n[SEP]islamist ter...  rumour     16  "
      ]
     },
     "execution_count": 2,
     "metadata": {},
     "output_type": "execute_result"
    }
   ],
   "source": [
    "raw_data = pd.read_csv('./data/raw_data.csv')\n",
    "raw_data.head()"
   ]
  },
  {
   "cell_type": "code",
   "execution_count": 3,
   "id": "a04233d5",
   "metadata": {},
   "outputs": [],
   "source": [
    "data = raw_data[['text_comments','label']]\n",
    "data = data.rename(columns = {'text_comments':'text'})\n",
    "data['label'] = LabelEncoder().fit_transform(data['label'])"
   ]
  },
  {
   "cell_type": "code",
   "execution_count": 4,
   "id": "6ce1d149",
   "metadata": {},
   "outputs": [],
   "source": [
    "train, tmp_val = train_test_split(data, test_size=0.1, random_state=35)\n",
    "_, tmp_test = train_test_split(train, test_size=0.3, random_state=35)\n",
    "\n",
    "test = pd.concat([tmp_val, tmp_test])"
   ]
  },
  {
   "cell_type": "code",
   "execution_count": 5,
   "id": "0fac9a51",
   "metadata": {},
   "outputs": [
    {
     "name": "stdout",
     "output_type": "stream",
     "text": [
      "5221 2148\n"
     ]
    }
   ],
   "source": [
    "train.reset_index(drop=True, inplace=True)\n",
    "test.reset_index(drop=True, inplace=True)\n",
    "\n",
    "print(len(train),len(test))"
   ]
  },
  {
   "cell_type": "code",
   "execution_count": 6,
   "id": "0e6ba940",
   "metadata": {},
   "outputs": [],
   "source": [
    "train_label = train['label'].values.tolist()\n",
    "test_label = test['label'].values.tolist()"
   ]
  },
  {
   "cell_type": "code",
   "execution_count": 7,
   "id": "b1be3e99",
   "metadata": {},
   "outputs": [],
   "source": [
    "with open('./data/PHEME-SEG/train_label.txt','w',encoding='utf-8') as file:\n",
    "    for each_index in train_label:\n",
    "        file.write(str(each_index))\n",
    "        file.write('\\n')\n",
    "\n",
    "with open('./data/PHEME-SEG/test_label.txt','w',encoding='utf-8') as file:\n",
    "    for each_index in test_label:\n",
    "        file.write(str(each_index))\n",
    "        file.write('\\n')"
   ]
  },
  {
   "cell_type": "code",
   "execution_count": 8,
   "id": "18ee9595",
   "metadata": {},
   "outputs": [],
   "source": [
    "train_tmp = train.copy()\n",
    "train_tmp['text_split'] = train['text'].apply(get_split)\n",
    "train = train_tmp\n",
    "\n",
    "test_tmp = test.copy()\n",
    "test_tmp['text_split'] = test['text'].apply(get_split)\n",
    "test = test_tmp"
   ]
  },
  {
   "cell_type": "code",
   "execution_count": 9,
   "id": "293a139d",
   "metadata": {},
   "outputs": [
    {
     "data": {
      "text/plain": [
       "(7709, 7709, 7709)"
      ]
     },
     "execution_count": 9,
     "metadata": {},
     "output_type": "execute_result"
    }
   ],
   "source": [
    "train_l = []  # Segmented Text\n",
    "label_l = []  # Label of Each Text\n",
    "index_l =[]   # The Index of Each Text Before Segmentation\n",
    "for idx,row in train.iterrows():\n",
    "  for l in row['text_split']:\n",
    "    train_l.append(l)\n",
    "    label_l.append(row['label'])\n",
    "    index_l.append(idx)\n",
    "len(train_l), len(label_l), len(index_l)"
   ]
  },
  {
   "cell_type": "code",
   "execution_count": 10,
   "id": "1496fcb2",
   "metadata": {},
   "outputs": [
    {
     "data": {
      "text/plain": [
       "(3174, 3174, 3174)"
      ]
     },
     "execution_count": 10,
     "metadata": {},
     "output_type": "execute_result"
    }
   ],
   "source": [
    "test_l = []\n",
    "test_label_l = []\n",
    "test_index_l =[]\n",
    "for idx,row in test.iterrows():\n",
    "  for l in row['text_split']:\n",
    "    test_l.append(l)\n",
    "    test_label_l.append(row['label'])\n",
    "    test_index_l.append(idx)\n",
    "len(test_l), len(test_label_l), len(test_index_l)"
   ]
  },
  {
   "cell_type": "code",
   "execution_count": 11,
   "id": "3c84aee1",
   "metadata": {},
   "outputs": [],
   "source": [
    "with open('./data/PHEME-SEG/train_index_list.txt','w',encoding='utf-8') as file:\n",
    "    for each_index in index_l:\n",
    "        file.write(str(each_index))\n",
    "        file.write('\\n')\n",
    "\n",
    "with open('./data/PHEME-SEG/test_index_list.txt','w',encoding='utf-8') as file:\n",
    "    for each_index in test_index_l:\n",
    "        file.write(str(each_index))\n",
    "        file.write('\\n')"
   ]
  },
  {
   "cell_type": "code",
   "execution_count": 12,
   "id": "5539893a",
   "metadata": {},
   "outputs": [
    {
     "data": {
      "text/html": [
       "<div>\n",
       "<style scoped>\n",
       "    .dataframe tbody tr th:only-of-type {\n",
       "        vertical-align: middle;\n",
       "    }\n",
       "\n",
       "    .dataframe tbody tr th {\n",
       "        vertical-align: top;\n",
       "    }\n",
       "\n",
       "    .dataframe thead th {\n",
       "        text-align: right;\n",
       "    }\n",
       "</style>\n",
       "<table border=\"1\" class=\"dataframe\">\n",
       "  <thead>\n",
       "    <tr style=\"text-align: right;\">\n",
       "      <th></th>\n",
       "      <th>text</th>\n",
       "      <th>label</th>\n",
       "    </tr>\n",
       "  </thead>\n",
       "  <tbody>\n",
       "    <tr>\n",
       "      <th>0</th>\n",
       "      <td>Still trapped here, barricaded. Not in my offi...</td>\n",
       "      <td>0</td>\n",
       "    </tr>\n",
       "    <tr>\n",
       "      <th>1</th>\n",
       "      <td>Snipers now on top of Ottawa's National Art Ga...</td>\n",
       "      <td>1</td>\n",
       "    </tr>\n",
       "    <tr>\n",
       "      <th>2</th>\n",
       "      <td>Gendarmerie arrive at the hostage taking in Da...</td>\n",
       "      <td>1</td>\n",
       "    </tr>\n",
       "    <tr>\n",
       "      <th>3</th>\n",
       "      <td>The problem isn’t Islam. The problem is asshol...</td>\n",
       "      <td>0</td>\n",
       "    </tr>\n",
       "    <tr>\n",
       "      <th>4</th>\n",
       "      <td>Police asking you not tweet abt, retweet, or o...</td>\n",
       "      <td>0</td>\n",
       "    </tr>\n",
       "  </tbody>\n",
       "</table>\n",
       "</div>"
      ],
      "text/plain": [
       "                                                text  label\n",
       "0  Still trapped here, barricaded. Not in my offi...      0\n",
       "1  Snipers now on top of Ottawa's National Art Ga...      1\n",
       "2  Gendarmerie arrive at the hostage taking in Da...      1\n",
       "3  The problem isn’t Islam. The problem is asshol...      0\n",
       "4  Police asking you not tweet abt, retweet, or o...      0"
      ]
     },
     "execution_count": 12,
     "metadata": {},
     "output_type": "execute_result"
    }
   ],
   "source": [
    "train_df = pd.DataFrame({'text':train_l, 'label':label_l})\n",
    "train_df.head()"
   ]
  },
  {
   "cell_type": "code",
   "execution_count": 13,
   "id": "71f74570",
   "metadata": {},
   "outputs": [
    {
     "data": {
      "text/html": [
       "<div>\n",
       "<style scoped>\n",
       "    .dataframe tbody tr th:only-of-type {\n",
       "        vertical-align: middle;\n",
       "    }\n",
       "\n",
       "    .dataframe tbody tr th {\n",
       "        vertical-align: top;\n",
       "    }\n",
       "\n",
       "    .dataframe thead th {\n",
       "        text-align: right;\n",
       "    }\n",
       "</style>\n",
       "<table border=\"1\" class=\"dataframe\">\n",
       "  <thead>\n",
       "    <tr style=\"text-align: right;\">\n",
       "      <th></th>\n",
       "      <th>text</th>\n",
       "      <th>label</th>\n",
       "    </tr>\n",
       "  </thead>\n",
       "  <tbody>\n",
       "    <tr>\n",
       "      <th>0</th>\n",
       "      <td>Apparent hostage situation unfolding in Sydney...</td>\n",
       "      <td>1</td>\n",
       "    </tr>\n",
       "    <tr>\n",
       "      <th>1</th>\n",
       "      <td>Thoughts go out to the people in Sydney today!...</td>\n",
       "      <td>0</td>\n",
       "    </tr>\n",
       "    <tr>\n",
       "      <th>2</th>\n",
       "      <td>The 2011 issue of Charlie Hebdo, whose cover f...</td>\n",
       "      <td>0</td>\n",
       "    </tr>\n",
       "    <tr>\n",
       "      <th>3</th>\n",
       "      <td>is trending #iwillridewithyou RSS goons too br...</td>\n",
       "      <td>0</td>\n",
       "    </tr>\n",
       "    <tr>\n",
       "      <th>4</th>\n",
       "      <td>Ottawa, you've been on my mind all day. Keepin...</td>\n",
       "      <td>0</td>\n",
       "    </tr>\n",
       "  </tbody>\n",
       "</table>\n",
       "</div>"
      ],
      "text/plain": [
       "                                                text  label\n",
       "0  Apparent hostage situation unfolding in Sydney...      1\n",
       "1  Thoughts go out to the people in Sydney today!...      0\n",
       "2  The 2011 issue of Charlie Hebdo, whose cover f...      0\n",
       "3  is trending #iwillridewithyou RSS goons too br...      0\n",
       "4  Ottawa, you've been on my mind all day. Keepin...      0"
      ]
     },
     "execution_count": 13,
     "metadata": {},
     "output_type": "execute_result"
    }
   ],
   "source": [
    "test_df = pd.DataFrame({'text':test_l, 'label':test_label_l})\n",
    "test_df.head()"
   ]
  },
  {
   "cell_type": "code",
   "execution_count": 14,
   "id": "936e65bc",
   "metadata": {},
   "outputs": [],
   "source": [
    "with open('./data/PHEME-SEG/train.txt', 'w', encoding='utf-8') as file:\n",
    "    for i in range(len(train_df)):\n",
    "        file.write(str(train_df.iloc[i,1]))\n",
    "        file.write(' ')\n",
    "        string = train_df.iloc[i,0].replace('\\n',' ').replace('[SEP]',' ').replace('\\t',' ').replace('\\r',' ')\n",
    "        file.write(string)\n",
    "        file.write('\\n')"
   ]
  },
  {
   "cell_type": "code",
   "execution_count": 15,
   "id": "16dd0721",
   "metadata": {},
   "outputs": [],
   "source": [
    "with open('./data/PHEME-SEG/test.txt', 'w', encoding='utf-8') as file:\n",
    "    for i in range(len(test_df)):\n",
    "        file.write(str(test_df.iloc[i,1]))\n",
    "        file.write(' ')\n",
    "        string = test_df.iloc[i,0].replace('\\n',' ').replace('[SEP]',' ').replace('\\t',' ').replace('\\r',' ')\n",
    "        file.write(string)\n",
    "        file.write('\\n')"
   ]
  },
  {
   "cell_type": "code",
   "execution_count": null,
   "id": "cb4dc2a1",
   "metadata": {},
   "outputs": [],
   "source": []
  }
 ],
 "metadata": {
  "kernelspec": {
   "display_name": "Python 3",
   "language": "python",
   "name": "python3"
  },
  "language_info": {
   "codemirror_mode": {
    "name": "ipython",
    "version": 3
   },
   "file_extension": ".py",
   "mimetype": "text/x-python",
   "name": "python",
   "nbconvert_exporter": "python",
   "pygments_lexer": "ipython3",
   "version": "3.7.10"
  },
  "toc": {
   "base_numbering": 1,
   "nav_menu": {},
   "number_sections": true,
   "sideBar": true,
   "skip_h1_title": false,
   "title_cell": "Table of Contents",
   "title_sidebar": "Contents",
   "toc_cell": false,
   "toc_position": {},
   "toc_section_display": true,
   "toc_window_display": false
  }
 },
 "nbformat": 4,
 "nbformat_minor": 5
}
